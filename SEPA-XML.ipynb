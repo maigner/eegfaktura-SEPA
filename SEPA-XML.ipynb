{
 "cells": [
  {
   "cell_type": "markdown",
   "metadata": {},
   "source": [
    "# Konfiguration"
   ]
  },
  {
   "cell_type": "code",
   "execution_count": null,
   "metadata": {},
   "outputs": [],
   "source": [
    "QUARTAL = \"Abr_YQ-2024-1\"\n",
    "\n",
    "# Pfad zur Abrechnugnsdatei aus EEG Faktura\n",
    "IMPORT_FILE = \"./abrechnung_Abr_YQ-2024-1_export.xlsx\"\n",
    "\n",
    "NAME = \"Erneuerbare-Energie-Gemeinschaft XXX\"\n",
    "\n",
    "IBAN = \"IBAN der EEG\"\n",
    "\n",
    "BIC = \"BIC der EEG\"\n",
    "\n",
    "CREDITOR_ID = \"CREDITOR_ID der EEG\"\n",
    "\n",
    "ADDRESS = {\n",
    "    # The address and all of its fields are optional but in some countries they are required\n",
    "    \"address_type\": \"ADDR\",  # valid: ADDR, PBOX, HOME, BIZZ, MLTO, DLVY\n",
    "    \"department\": \"Head Office\",\n",
    "    \"subdepartment\": None,\n",
    "    \"street_name\": \"Straße X\",\n",
    "    \"building_number\": \"123\",\n",
    "    \"postcode\": \"4234\",\n",
    "    \"town\": \"Bad Ischl\",\n",
    "    \"country\": \"AT\",\n",
    "    \"country_subdivision\": None,\n",
    "    \"lines\": [\"Line 1\", \"Line 2\"],\n",
    "}"
   ]
  },
  {
   "cell_type": "markdown",
   "metadata": {},
   "source": [
    "## Pakete installieren"
   ]
  },
  {
   "cell_type": "code",
   "execution_count": null,
   "metadata": {},
   "outputs": [],
   "source": [
    "%pip install pandas openpyxl sepaxml"
   ]
  },
  {
   "cell_type": "markdown",
   "metadata": {},
   "source": [
    "## Excel laden"
   ]
  },
  {
   "cell_type": "code",
   "execution_count": null,
   "metadata": {},
   "outputs": [],
   "source": [
    "import pandas as pd\n",
    "\n",
    "df = pd.read_excel(IMPORT_FILE, parse_dates=['Datum', 'Empfänger Mandatsausstellung'])"
   ]
  },
  {
   "cell_type": "markdown",
   "metadata": {},
   "source": [
    "## SEPA Rechnungen Abbucher XML erstellen"
   ]
  },
  {
   "cell_type": "code",
   "execution_count": null,
   "metadata": {},
   "outputs": [],
   "source": [
    "import datetime, uuid\n",
    "import math\n",
    "\n",
    "\n",
    "from sepaxml import SepaDD\n",
    "\n",
    "config = {\n",
    "    \"name\": NAME,\n",
    "    \"IBAN\": IBAN,\n",
    "    \"BIC\": BIC,\n",
    "    \"batch\": True,\n",
    "    \"creditor_id\": CREDITOR_ID,  # supplied by your bank or financial authority\n",
    "    \"currency\": \"EUR\",  # ISO 4217\n",
    "    # \"instrument\": \"B2B\",  # - default is CORE (B2C)\n",
    "    \"address\": ADDRESS\n",
    "}\n",
    "sepa_invoices = SepaDD(config, schema=\"pain.008.001.02\", clean=True)\n",
    "\n",
    "accounting = df[df['Abrechnung'] == QUARTAL]\n",
    "invoices = accounting[accounting['Dokumenttyp'] == \"Rechnung\"]\n",
    "invoices\n",
    "invoices = invoices[[\n",
    "    'Nummer', \n",
    "    'Empfänger Kontoeigner', \n",
    "    'Empfänger Konto IBAN', \n",
    "    'Rechnungsbetrag Brutto', \n",
    "    'Empfänger Mitgliedsnummer',\n",
    "    'Empfänger Mandatsausstellung'\n",
    "]]\n",
    "\n",
    "invoices['BIC'] = 'NOTPROVIDED'\n",
    "\n",
    "invoices = invoices.rename(columns={\n",
    "    'Nummer': 'description',\n",
    "    'Empfänger Kontoeigner': 'name',\n",
    "    'Empfänger Konto IBAN': 'IBAN',\n",
    "    'Rechnungsbetrag Brutto': 'amount',\n",
    "    'Empfänger Mitgliedsnummer': 'mandate_id',\n",
    "    'Empfänger Mandatsausstellung': 'mandate_date'\n",
    "})\n",
    "\n",
    "# values in CENT!\n",
    "invoices['amount'] = invoices['amount'] * 100\n",
    "invoices['amount'] = invoices['amount'].apply(round)\n",
    "invoices['collection_date'] = datetime.date.today()\n",
    "invoices['mandate_date'] = invoices['mandate_date'].apply(lambda x: x.to_pydatetime().date())\n",
    "invoices['mandate_id'] = invoices['mandate_id'].apply(lambda x: str(x).zfill(3))\n",
    "\n",
    "invoices['type'] = \"RCUR\"\n",
    "\n",
    "\n",
    "for index, row in invoices.iterrows():\n",
    "    payment = row.to_dict()\n",
    "    sepa_invoices.add_payment(payment)\n",
    "\n",
    "\n",
    "xml_file = f\"{QUARTAL}.xml\"\n",
    "\n",
    "with open(xml_file, 'wb') as file:\n",
    "    file.write(sepa_invoices.export(validate=True))\n",
    "    \n",
    "print(xml_file)\n"
   ]
  },
  {
   "cell_type": "markdown",
   "metadata": {},
   "source": [
    "## SEPA Gutschriften XML erstellen"
   ]
  },
  {
   "cell_type": "code",
   "execution_count": null,
   "metadata": {},
   "outputs": [],
   "source": [
    "from sepaxml import SepaTransfer\n",
    "\n",
    "\n",
    "config = {\n",
    "    \"name\": NAME,\n",
    "    \"IBAN\": IBAN,\n",
    "    \"BIC\": BIC,\n",
    "    \"batch\": True,\n",
    "    \"currency\": \"EUR\",  # ISO 4217\n",
    "    \"address\": ADDRESS\n",
    "}\n",
    "\n",
    "sepa_credits = SepaTransfer(config, clean=True)\n",
    "\n",
    "\n",
    "accounting = df[df['Abrechnung'] == QUARTAL]\n",
    "credits = accounting[accounting['Dokumenttyp'] == \"Gutschrift\"]\n",
    "credits = credits[[\n",
    "    'Nummer', \n",
    "    'Empfänger Kontoeigner', \n",
    "    'Empfänger Konto IBAN', \n",
    "    'Rechnungsbetrag Brutto', \n",
    "]]\n",
    "credits['BIC'] = 'NOTPROVIDED'\n",
    "credits = credits.rename(columns={\n",
    "    'Nummer': 'description',\n",
    "    'Empfänger Kontoeigner': 'name',\n",
    "    'Empfänger Konto IBAN': 'IBAN',\n",
    "    'Rechnungsbetrag Brutto': 'amount',\n",
    "})\n",
    "# values in CENT!\n",
    "credits['amount'] = credits['amount'] * 100\n",
    "credits['amount'] = credits['amount'].apply(math.floor)\n",
    "credits['execution_date'] = datetime.date.today() + datetime.timedelta(days=2)\n",
    "\n",
    "for index, row in credits.iterrows():\n",
    "    payment = row.to_dict()\n",
    "    sepa_credits.add_payment(payment)\n",
    "\n",
    "\n",
    "xml_file = f\"{QUARTAL}.xml\"\n",
    "\n",
    "with open(xml_file, 'wb') as file:\n",
    "    file.write(sepa_credits.export(validate=True))\n",
    "    \n",
    "print(xml_file)\n"
   ]
  }
 ],
 "metadata": {
  "kernelspec": {
   "display_name": ".venv",
   "language": "python",
   "name": "python3"
  },
  "language_info": {
   "codemirror_mode": {
    "name": "ipython",
    "version": 3
   },
   "file_extension": ".py",
   "mimetype": "text/x-python",
   "name": "python",
   "nbconvert_exporter": "python",
   "pygments_lexer": "ipython3",
   "version": "3.10.12"
  }
 },
 "nbformat": 4,
 "nbformat_minor": 2
}
